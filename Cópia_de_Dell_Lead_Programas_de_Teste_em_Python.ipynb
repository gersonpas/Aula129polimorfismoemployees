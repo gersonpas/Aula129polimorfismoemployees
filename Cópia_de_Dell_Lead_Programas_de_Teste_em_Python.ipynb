{
  "nbformat": 4,
  "nbformat_minor": 0,
  "metadata": {
    "colab": {
      "name": "Cópia de Dell Lead  - Programas de Teste em  Python",
      "provenance": [],
      "collapsed_sections": [
        "I9-yOgczBnBf"
      ],
      "include_colab_link": true
    },
    "kernelspec": {
      "name": "python3",
      "display_name": "Python 3"
    }
  },
  "cells": [
    {
      "cell_type": "markdown",
      "metadata": {
        "id": "view-in-github",
        "colab_type": "text"
      },
      "source": [
        "<a href=\"https://colab.research.google.com/github/gersonpas/Aula129polimorfismoemployees/blob/master/C%C3%B3pia_de_Dell_Lead_Programas_de_Teste_em_Python.ipynb\" target=\"_parent\"><img src=\"https://colab.research.google.com/assets/colab-badge.svg\" alt=\"Open In Colab\"/></a>"
      ]
    },
    {
      "cell_type": "markdown",
      "metadata": {
        "id": "1y61ClAzAzJd"
      },
      "source": [
        "# Machine Learning  -   Dell Lead"
      ]
    },
    {
      "cell_type": "markdown",
      "metadata": {
        "id": "-v-ODCMvBPQZ"
      },
      "source": [
        "Aula 01.2"
      ]
    },
    {
      "cell_type": "code",
      "metadata": {
        "id": "z6rejiG1AwcF"
      },
      "source": [
        "import numpy as np\n",
        "import pandas as pd\n",
        "import matplotlib.pyplot as plt\n",
        "\n",
        "\n",
        "temperatura = np.array([30, 25, 36, 18, 25, 29, 30, 33, 37, 31, 26, 37, 29, 26, 30, 31, 34, 38])\n",
        "\n",
        "numero_sorvetes = np.array([20, 12, 50, 10, 18, 25, 26, 32, 48, 22, 16, 52, 24, 20, 28, 29, 35, 40])\n",
        "\n",
        "df = pd.DataFrame({'temperatura': temperatura, 'numero_sorvetes': numero_sorvetes})\n",
        "\n",
        "plt.plot(df['temperatura'], df['numero_sorvetes'], '*')\n",
        "plt.xlabel('Temperatura')\n",
        "plt.ylabel('Sorvetes')\n",
        "plt.show()\n",
        "\n",
        "x = df['temperatura'].to_numpy()\n",
        "\n",
        "y = df['numero_sorvetes'].to_numpy()\n",
        "\n",
        "from sklearn.model_selection import train_test_split\n",
        "\n",
        "x_treino, x_teste, y_treino, y_teste = train_test_split(x, y, test_size=0.2)\n",
        "\n",
        "from sklearn.linear_model import LinearRegression\n",
        "\n",
        "# define um modelo de regressão\n",
        "modelo = LinearRegression()\n",
        "\n",
        "# treina o modelo com os dados de treino\n",
        "modelo.fit(x_treino.reshape(-1, 1), y_treino.reshape(-1, 1))\n",
        "\n",
        "# y_previsto contém a previsão dos preços do nosso modelo\n",
        "y_previsto = modelo.predict(x_teste.reshape(-1,1))\n",
        "\n",
        "\n",
        "plt.plot(range(y_previsto.shape[0]), y_previsto, 'r--')\n",
        "plt.plot(range(y_teste.shape[0]), y_teste, 'g--')\n",
        "plt.legend(['Sorvetes previstos', 'Sorvetes vendidos'])\n",
        "plt.xlabel('índice')\n",
        "plt.ylabel('Sorvetes')\n",
        "plt.show()\n"
      ],
      "execution_count": null,
      "outputs": []
    },
    {
      "cell_type": "markdown",
      "metadata": {
        "id": "OIc5MzWiCoNv"
      },
      "source": [
        "Regressão"
      ]
    },
    {
      "cell_type": "code",
      "metadata": {
        "id": "uWMXMErsCnK1"
      },
      "source": [
        ""
      ],
      "execution_count": null,
      "outputs": []
    },
    {
      "cell_type": "markdown",
      "metadata": {
        "id": "I9-yOgczBnBf"
      },
      "source": [
        "# Teste de Programas Básicos.\n",
        "\n"
      ]
    },
    {
      "cell_type": "code",
      "metadata": {
        "id": "F1ZrHwmJhnBP"
      },
      "source": [
        "from numpy import random\n",
        "\n",
        "x = random.choice([3, 5, 7, 9], p=[0.1, 0.2, 0.3, 0.4], size=(3, 4))\n",
        "\n",
        "print(x)\n",
        "\n"
      ],
      "execution_count": null,
      "outputs": []
    },
    {
      "cell_type": "code",
      "metadata": {
        "id": "3PzGoi8AJ5oP"
      },
      "source": [
        "import matplotlib.pyplot as plt\n",
        "import numpy as np\n",
        "dezenas = [4.5, 31, 126, 378,945]\n",
        "x = np.array([\"6 Dezenas\", \"7 Dezenas\", \"8 Dezenas\", \"9 Dezenas\",'10 Dezenas'])\n",
        "y = np.array(dezenas)\n",
        "\n",
        "plt.bar(x, y, color = \"b\")\n",
        "plt.title('Gráfico da Sorte')\n",
        "plt.show()"
      ],
      "execution_count": null,
      "outputs": []
    },
    {
      "cell_type": "code",
      "metadata": {
        "id": "B96STfzYbtT9"
      },
      "source": [
        "Time = 'Day'\n",
        "Sleepy = False\n",
        "Pijamas ='Off'\n",
        "if Time == 'Night' and Sleepy == True:\n",
        "  Pijamas = 'On'\n",
        "print(Pijamas)\n"
      ],
      "execution_count": null,
      "outputs": []
    },
    {
      "cell_type": "markdown",
      "metadata": {
        "id": "GtGInO7Bj5i1"
      },
      "source": [
        "HOMEWORK 03 - PIRPLE"
      ]
    },
    {
      "cell_type": "code",
      "metadata": {
        "id": "YiHexyAug622"
      },
      "source": [
        "a = 'VIDRO'\n",
        "b = 'ARTE'\n",
        "c = 'SOPA'\n",
        "tst = False\n",
        "if a == b:\n",
        "    print('\\033[33ma is equal b')\n",
        "    tst = True\n",
        "if b == c:\n",
        "    print('\\033[33mb is equal c')\n",
        "    tst = True\n",
        "if a == c:\n",
        "    print('\\033[33ma is equal c')\n",
        "    tst = True\n",
        "else:\n",
        "  if tst == False:\n",
        "    print('\\033[33mNone of then is equal')\n",
        "    print(tst)"
      ],
      "execution_count": null,
      "outputs": []
    },
    {
      "cell_type": "markdown",
      "metadata": {
        "id": "Ck9Xjs_tPnF7"
      },
      "source": [
        ""
      ]
    },
    {
      "cell_type": "code",
      "metadata": {
        "id": "l4QoDdDlwKIS"
      },
      "source": [
        "a = 'b'\n",
        "if False and True:\n",
        "  a = \"a\"\n",
        "print(a*3)\n"
      ],
      "execution_count": null,
      "outputs": []
    },
    {
      "cell_type": "markdown",
      "metadata": {
        "id": "a-hJ1fUgPp2I"
      },
      "source": [
        "LOTERIAS CEF"
      ]
    },
    {
      "cell_type": "markdown",
      "metadata": {
        "id": "AOYgDznIWVNd"
      },
      "source": [
        ""
      ]
    },
    {
      "cell_type": "code",
      "metadata": {
        "id": "KGjO0a2hWUZk"
      },
      "source": [
        "from random import randint, sample,choice\n",
        "import time\n",
        "#from time import sleep\n",
        "print('\\033[0;33m{:=^44}'.format('\\033[0;33m LOTERIAS '))\n",
        "print(''' \n",
        "[1] = QUINA\n",
        "[2] = MEGA SENA\n",
        "[3] = DUPLA SENA\n",
        "[4] = LOTOFÁCIL\n",
        "[5] = lOTOMANIA\n",
        "[6] = DIA DE SORTE''')\n",
        "loto = int(input('Escolha sua loteria: '))\n",
        "while loto > 6 or loto < 1:\n",
        "  loto = int(input('\\033[0;34mEntre com uma opção válida: '))\n",
        "if loto == 1:\n",
        "  opção, init, fim, qdezInit, qdezFim = ' QUINA', 0, 80, 5, 15\n",
        "elif loto == 2:\n",
        "    opção, init, fim, qdezInit, qdezFim  = 'MEGA SENA', 1, 60, 6, 15\n",
        "elif loto == 3:\n",
        "    opção, init, fim, qdezInit, qdezFim = 'DUPLA SENA', 1, 50, 6, 15\n",
        "elif loto == 4:\n",
        "    opção, init, fim, qdezInit, qdezFim = 'LOTOFÁCIL', 1, 25, 15, 20\n",
        "elif loto == 5:\n",
        "    opção, init, fim, qdezInit, qdezFim  = 'lOTOMANIA', 0, 99, 50, 50\n",
        "elif loto == 6:\n",
        "    opção, init, fim, qdezInit, qdezFim  = 'DIA DE SORTE', 1, 30, 7, 15\n",
        "    Meses = ['Janeiro', 'Fevereiro', 'Março', 'Abril', 'Maio', 'Junho', 'Julho', 'Agosto', 'Setembro', 'Outubro',\n",
        "             'Novembro', 'Dezembro']\n",
        "    mesecolhido = choice(Meses) # escolhe um mês dentre os meses\n",
        "print(f'Você escolheu {opção}, Ótima escolha!')\n",
        "qdezenas = int(input(f'\\033[0;33mEscolha um jogo entre {qdezInit} e {qdezFim} Dezenas\\033[0;33m: '))\n",
        "while qdezenas < qdezInit or qdezenas > qdezFim:\n",
        "    qdezenas = int(input('Entre com uma opção valida: '))\n",
        "print('-='*27)\n",
        "print(f'Muito bem! Você escolheu  {opção} com {qdezenas} Dezenas!')\n",
        "print('-='*27)\n",
        "print('\\033[0;34m-='*42)\n",
        "print('\\033[0;33mSorteando as Dezenas...')\n",
        "time.sleep(3)\n",
        "dezenas = sorted(sample(range(init, fim),qdezenas))\n",
        "print(f'\\033[0;31m{qdezenas} Dezenas Sorteadas ==> {dezenas}')\n",
        "print(f'O Mês escolhido foi: {mesecolhido}' if loto == 6 else '-='*50)\n",
        "print('-='*42 if loto == 6 else '')\n"
      ],
      "execution_count": null,
      "outputs": []
    },
    {
      "cell_type": "markdown",
      "metadata": {
        "id": "ob7sxIRrVO6q"
      },
      "source": [
        "Gráfico de Barra"
      ]
    },
    {
      "cell_type": "code",
      "metadata": {
        "id": "zZEMLzR4Hh6E"
      },
      "source": [
        "import numpy as np\n",
        "from matplotlib import pyplot as plt\n",
        "\n",
        "ys = 200 + np.random.randn(100)\n",
        "x = [x for x in range(len(ys))]\n",
        "\n",
        "plt.plot(x, ys, '-')\n",
        "plt.fill_between(x, ys, 195, where=(ys > 195), facecolor='g', alpha=0.6)\n",
        "\n",
        "plt.title(\"Visualização Gráfica\")\n",
        "plt.show()"
      ],
      "execution_count": null,
      "outputs": []
    },
    {
      "cell_type": "markdown",
      "metadata": {
        "id": "TH3hhRc2VUG-"
      },
      "source": [
        "Listas"
      ]
    },
    {
      "cell_type": "code",
      "metadata": {
        "id": "9O9rfGD6pMca"
      },
      "source": [
        "meses = ['Janeiro','Fevereiro','Março','Abril','Maio','Junho','Julho','Agosto','Setembro','Outubro','Novembro','Dezembro']\n",
        "print(meses[10])\n",
        "\n",
        "lista = [60,65,70,75,80,85,90]\n",
        "print(lista)\n",
        "lista[0] = 11\n",
        "print(lista)\n",
        "lista[1:3] = [45]\n",
        "print(lista)\n"
      ],
      "execution_count": null,
      "outputs": []
    },
    {
      "cell_type": "markdown",
      "metadata": {
        "id": "v94OSTcYVed1"
      },
      "source": [
        "Estrutura de Repetição Controlada - for = aula 13 Mundo 2"
      ]
    },
    {
      "cell_type": "code",
      "metadata": {
        "id": "kRDeGUtbFFc8"
      },
      "source": [
        "for c in range(0,6):\n",
        "  print('Oi',c)\n",
        "print('Fim')\n",
        "\n",
        "for e in range(7,0, -1):\n",
        "  print(e)\n",
        "print('Fim')\n",
        "\n"
      ],
      "execution_count": null,
      "outputs": []
    },
    {
      "cell_type": "code",
      "metadata": {
        "id": "dhiSdP41X9X-"
      },
      "source": [
        "i = int(input('Início: '))\n",
        "f = int(input('Fim: '))\n",
        "p = int(input('Passo: '))\n",
        "for c in range(i, f, p):\n",
        "  print(c, end=' ')\n",
        "print('Fim')\n",
        "\n",
        "s = 0\n",
        "for c in range(0, 4):\n",
        "  n = int(input('Digite um Valor: '))\n",
        "  s += n \n",
        "print('O somátorio foi: {} '.format(s))\n"
      ],
      "execution_count": null,
      "outputs": []
    },
    {
      "cell_type": "code",
      "metadata": {
        "id": "mJlTUfc7Y-Gf"
      },
      "source": [
        "import calendar\n",
        "'''\n",
        "print(calendar.TextCalendar(calendar.SUNDAY).formatyear(2021))\n",
        "'''\n",
        "aniversario = calendar.TextCalendar(calendar.SUNDAY)\n",
        "\n",
        "\n",
        "\n",
        "aniversario.prmonth(2021,11)\n"
      ],
      "execution_count": null,
      "outputs": []
    },
    {
      "cell_type": "code",
      "metadata": {
        "id": "q2tkACDP1HWw"
      },
      "source": [
        "def gen(x):\n",
        "  y = 0\n",
        "  while y < x:\n",
        "    yield y\n",
        "    y += 1\n",
        "res = gen(4)\n",
        "print(res)"
      ],
      "execution_count": null,
      "outputs": []
    },
    {
      "cell_type": "markdown",
      "metadata": {
        "id": "s8qGPBAPG1yX"
      },
      "source": [
        "Homework 4: Lists => Pirple.com"
      ]
    },
    {
      "cell_type": "code",
      "metadata": {
        "id": "al3xz9b7_2LH"
      },
      "source": [
        "def calcular_pagamento(qtd_horas, valor_hora):\n",
        "  horas = float(qtd_horas)\n",
        "  taxa = float(valor_hora)\n",
        "  if horas <= 40:\n",
        "    salario=horas*taxa\n",
        "  else:\n",
        "    h_excd = horas - 40\n",
        "    salario = 40*taxa+(h_excd*(1.5*taxa))\n",
        "  return salario\n",
        "\n",
        "str_horas= input('Digite as horas: ')\n",
        "str_taxa=input('Digite a taxa: ')\n",
        "total_salario = calcular_pagamento(str_horas,str_taxa)\n",
        "print('O valor de seus rendimentos é R$',total_salario)\n"
      ],
      "execution_count": null,
      "outputs": []
    },
    {
      "cell_type": "code",
      "metadata": {
        "id": "d4hhx_Ku_9oA"
      },
      "source": [
        "def soma(a,b):\n",
        "    result = a+b\n",
        "    mult = (a*b)\n",
        "    div = a // b\n",
        "    return result,mult, div\n",
        "   \n",
        "n1 = int(input(\"Primeiro numero: \"))\n",
        "n2 = int(input(\"Segundo numero : \"))\n",
        "x = soma(n1,n2) #<= o x aqui joga e puxa valores na função soma(a,b).\n",
        "print(\"A Soma entre os números é: \", x[0])\n",
        "print('O produto entre os números é :',x[1])\n",
        "print('A divisão entre os números é:',x[2])\n",
        "print('E a soma entre esses resultados é: ', (x[0] + x[1] + x[2]))\n"
      ],
      "execution_count": null,
      "outputs": []
    },
    {
      "cell_type": "code",
      "metadata": {
        "id": "qjcHgQ7VWLjt"
      },
      "source": [
        "def soma():\n",
        "    a = int(input(\"Primeiro numero: \"))\n",
        "    b = int(input(\"Segundo numero : \"))\n",
        "    result = a+b\n",
        "    mult = (a*b)\n",
        "    div = a // b\n",
        "    return result,mult, div\n",
        "   \n",
        "print('\\033[33mVamos iniciar os cálculos!')\n",
        "x = soma()  # <== o x aqui só busca o(s) resultado(s) da função soma().\n",
        "print(\"A Soma desses números é: \", x[0])\n",
        "print('O produto desses números é :',x[1])\n",
        "print('A divisão desses números é:',x[2])\n",
        "print('E a soma entre esses resultados é: ', (x[0] + x[1] + x[2]))\n"
      ],
      "execution_count": null,
      "outputs": []
    },
    {
      "cell_type": "code",
      "metadata": {
        "id": "fWtF8vMWCkm0"
      },
      "source": [
        "def cadastro():\n",
        "    name = input(\"Qual seu nome: \")\n",
        "    age   = int(input(\"Idade: \") )\n",
        "    return name, age\n",
        "\n",
        "print(\"Iniciando cadastro...\")\n",
        "nome, idade = cadastro()\n",
        "\n",
        "print(\"Cadastro realizado com sucesso:\")\n",
        "print(\"Seu nome é\", nome, \"e você tem\", idade,\"anos de idade.\")\n"
      ],
      "execution_count": null,
      "outputs": []
    },
    {
      "cell_type": "code",
      "metadata": {
        "id": "JdyD2-qssP0B"
      },
      "source": [
        "def notas(valor, ced):\n",
        "  totalced = valor // ced\n",
        "  resto = valor % ced\n",
        "  ret = (f'Total de {totalced:2} Cédulas de R${ced:2},00')\n",
        "  return ret,resto, totalced, ced\n",
        "print('\\033[33m='*55)\n",
        "print('{:^55}'.format('BANCO GPAS'))\n",
        "print('='*55)\n",
        "print('\\033[33mNOTAS DISPONÍVEIS: R$1,00/ 5,00/ 10,00/ 20,00 50 e 100\\033[31m')\n",
        "print('\\033[33m='*55)\n",
        "saque = int(input('\\033[31mQuanto deseja sacar? '))\n",
        "cedulas = 100\n",
        "retorno = notas(saque,cedulas)\n",
        "if retorno[2] > 0:\n",
        "  print(retorno[0])\n",
        "\n",
        "cedulas = 50\n",
        "while retorno[1] > 0:\n",
        "    valnotas = (retorno[1])\n",
        "    retorno = notas(valnotas, cedulas)\n",
        "    if retorno[2] > 0 and valnotas > 0:\n",
        "      print(retorno[0])\n",
        "    cedulas = 20\n",
        "\n",
        "    valnotas = (retorno[1])\n",
        "    retorno = notas(valnotas, cedulas)\n",
        "    if retorno[2] > 0 and valnotas > 0:\n",
        "      print(retorno[0])\n",
        "    cedulas = 10\n",
        "\n",
        "    valnotas = (retorno[1])\n",
        "    retorno = notas(valnotas, cedulas)\n",
        "    if retorno[2] > 0 and valnotas > 0:\n",
        "      print(retorno[0])\n",
        "    cedulas = 5\n",
        "\n",
        "    valnotas = (retorno[1])\n",
        "    retorno = notas(valnotas, cedulas)\n",
        "    if retorno[2] > 0 and valnotas > 0:\n",
        "      print(retorno[0])\n",
        "    cedulas = 1\n",
        "\n",
        "    if retorno[3] == 5 and retorno[1]:\n",
        "      cedulas = 1\n",
        "      valnotas = retorno[1]\n",
        "      retorno = notas(valnotas, cedulas)\n",
        "      print(retorno[0])\n",
        "      break\n",
        "print('\\033[33m='*55)\n",
        "print('Volte sempre. O banco GPAS agradece. Tenha um Bom Dia!')\n",
        "print('='*55)\n"
      ],
      "execution_count": null,
      "outputs": []
    },
    {
      "cell_type": "code",
      "metadata": {
        "id": "SgWMf6nxPrIO"
      },
      "source": [
        "lanche = ('Hamburger', 'Suco', 'Pizza','Pudim', 'Batata Frita')\n",
        "#for comida in lanche:\n",
        "  #print(f'Eu vou comer {comida}')\n",
        "\n",
        "#for cont in range(0, len(lanche)):\n",
        " # print(f'\\033[33mEu vou comer {lanche[cont]}')\n",
        "\n",
        "for pos, comida in enumerate(lanche):\n",
        "  print(f'\\033[33mEu vou comer {comida} na posição {pos + 1}')\n",
        "  \n",
        "print(f'Eu comi pra caramba!')\n",
        "#print(sorted(lanche))\n"
      ],
      "execution_count": null,
      "outputs": []
    },
    {
      "cell_type": "code",
      "metadata": {
        "id": "HWhu5cxSn5lf"
      },
      "source": [
        "a = [2, 5, 4, 7]\n",
        "b = a[:]\n",
        "b[2] = 8\n",
        "print(f' Lista a: {a}')\n",
        "print(f' Lista b: {b}')\n"
      ],
      "execution_count": null,
      "outputs": []
    },
    {
      "cell_type": "code",
      "metadata": {
        "id": "Ql2tScBibBbL"
      },
      "source": [
        "print(f'O maior valor sorteado foi: {max(nrs)}')\n",
        "print(f'O menor valor sorteado foi: {min(nrs)}')"
      ],
      "execution_count": null,
      "outputs": []
    },
    {
      "cell_type": "code",
      "metadata": {
        "id": "OGog1ng_O3eI"
      },
      "source": [
        "myUniqueList = []\n",
        "def listaValor(itens):\n",
        " if itens in myUniqueList:\n",
        "  print(f'{itens} => É um valor repetido!')\n",
        "  return myUniqueList\n",
        " else:\n",
        "    print(f'O {itens} será inserido.')\n",
        "    myUniqueList.append(itens)\n",
        "    return myUniqueList\n",
        "\n",
        "while True:\n",
        "  valor = input('Digite valor [99 sai]: ')\n",
        "  if valor == '99':\n",
        "    break\n",
        "  resp = listaValor(valor)\n",
        "print('\\033[33m-='*34)\n",
        "print(resp, '<== Aqui os valores digitados.')  \n",
        "print('-='*34)\n"
      ],
      "execution_count": null,
      "outputs": []
    }
  ]
}